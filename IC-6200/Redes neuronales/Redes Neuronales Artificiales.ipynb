{
 "cells": [
  {
   "cell_type": "markdown",
   "metadata": {},
   "source": [
    "# Redes Neuronales Artificiales\n",
    "\n",
    "Las redes neuronales artificiales (RNA) son un modelo de computación inspirado en el modelo biológico de redes neuronales.\n",
    "\n",
    "Estos modelos pueden ser aplicados en el contexto de aprendizaje mecánico, pues permiten descubrir patrones en conjuntos de datos que abstraen algún escenario particular. Posteriormente el modelo puede aplicar estos patrones para estimar valores o clasificaciones ante nuevas observaciones del mismo escenario.\n",
    "\n",
    "## Problema\n",
    "\n",
    "Vamos a conocer los detalles teóricos de modelamiento de RNA a través del desarrollo de un problema particular.\n",
    "\n",
    "Trabajaremos con un conjunto de datos para clasificación de frutas (https://github.com/susanli2016/Machine-Learning-with-Python/blob/master/fruit_data_with_colors.txt). \n",
    "\n",
    "El conjunto de datos registra las medidas de masa, altura, anchura y color de 19 naranjas y 19 manzanas.\n",
    "\n",
    "Con este conjunto de datos y nuestra RNA realizaremos una tarea de clasificación, de manera tal que la RNA aprenderá a reconocer la fruta con base en sus medidas."
   ]
  },
  {
   "cell_type": "code",
   "execution_count": 272,
   "metadata": {},
   "outputs": [],
   "source": [
    "import pandas as pd\n",
    "import numpy as np\n",
    "import matplotlib.pyplot as plt\n",
    "import sklearn.preprocessing as pre \n",
    "\n",
    "np.random.seed(42)"
   ]
  },
  {
   "cell_type": "code",
   "execution_count": 273,
   "metadata": {},
   "outputs": [],
   "source": [
    "# Carga y limpieza de los datos\n",
    "fruits = pd.read_csv(\"https://raw.githubusercontent.com/susanli2016/Machine-Learning-with-Python/master/fruit_data_with_colors.txt\", sep='\\t')\n",
    "fruits = fruits[['fruit_name', 'mass', 'width', 'height', 'color_score']]\n",
    "fruits.columns = ['label', 'masa', 'ancho', 'alto', 'color']\n",
    "\n",
    "is_orange = fruits['label'] == 'orange'\n",
    "is_apple = fruits['label'] == 'apple'\n",
    "fruits = fruits[is_orange | is_apple]\n",
    "fruits['clase'] = fruits['label'] == 'orange'\n",
    "fruits = fruits.drop('label', axis=1)\n",
    "fruits['clase'] = fruits['clase'].astype(int)"
   ]
  },
  {
   "cell_type": "code",
   "execution_count": 274,
   "metadata": {},
   "outputs": [
    {
     "data": {
      "text/html": [
       "<div>\n",
       "<style scoped>\n",
       "    .dataframe tbody tr th:only-of-type {\n",
       "        vertical-align: middle;\n",
       "    }\n",
       "\n",
       "    .dataframe tbody tr th {\n",
       "        vertical-align: top;\n",
       "    }\n",
       "\n",
       "    .dataframe thead th {\n",
       "        text-align: right;\n",
       "    }\n",
       "</style>\n",
       "<table border=\"1\" class=\"dataframe\">\n",
       "  <thead>\n",
       "    <tr style=\"text-align: right;\">\n",
       "      <th></th>\n",
       "      <th>masa</th>\n",
       "      <th>ancho</th>\n",
       "      <th>alto</th>\n",
       "      <th>color</th>\n",
       "      <th>clase</th>\n",
       "    </tr>\n",
       "  </thead>\n",
       "  <tbody>\n",
       "    <tr>\n",
       "      <th>0</th>\n",
       "      <td>192</td>\n",
       "      <td>8.4</td>\n",
       "      <td>7.3</td>\n",
       "      <td>0.55</td>\n",
       "      <td>0</td>\n",
       "    </tr>\n",
       "    <tr>\n",
       "      <th>1</th>\n",
       "      <td>180</td>\n",
       "      <td>8.0</td>\n",
       "      <td>6.8</td>\n",
       "      <td>0.59</td>\n",
       "      <td>0</td>\n",
       "    </tr>\n",
       "    <tr>\n",
       "      <th>2</th>\n",
       "      <td>176</td>\n",
       "      <td>7.4</td>\n",
       "      <td>7.2</td>\n",
       "      <td>0.60</td>\n",
       "      <td>0</td>\n",
       "    </tr>\n",
       "    <tr>\n",
       "      <th>8</th>\n",
       "      <td>178</td>\n",
       "      <td>7.1</td>\n",
       "      <td>7.8</td>\n",
       "      <td>0.92</td>\n",
       "      <td>0</td>\n",
       "    </tr>\n",
       "    <tr>\n",
       "      <th>9</th>\n",
       "      <td>172</td>\n",
       "      <td>7.4</td>\n",
       "      <td>7.0</td>\n",
       "      <td>0.89</td>\n",
       "      <td>0</td>\n",
       "    </tr>\n",
       "  </tbody>\n",
       "</table>\n",
       "</div>"
      ],
      "text/plain": [
       "   masa  ancho  alto  color  clase\n",
       "0   192    8.4   7.3   0.55      0\n",
       "1   180    8.0   6.8   0.59      0\n",
       "2   176    7.4   7.2   0.60      0\n",
       "8   178    7.1   7.8   0.92      0\n",
       "9   172    7.4   7.0   0.89      0"
      ]
     },
     "execution_count": 274,
     "metadata": {},
     "output_type": "execute_result"
    }
   ],
   "source": [
    "data = fruits\n",
    "data.head()"
   ]
  },
  {
   "cell_type": "code",
   "execution_count": 275,
   "metadata": {},
   "outputs": [
    {
     "name": "stdout",
     "output_type": "stream",
     "text": [
      "Número de observaciones: 38\n"
     ]
    }
   ],
   "source": [
    "print('Número de observaciones:', len(fruits))"
   ]
  },
  {
   "cell_type": "markdown",
   "metadata": {},
   "source": [
    "## Neuronas artificiales\n",
    "\n",
    "Las RNA están compuestas de tres tipos de unidades:\n",
    "\n",
    "+ Entradas: corresponden a los valores de entrada de las variables que modelan el problema.\n",
    "+ Neuronas: se conectan a las entradas, a otras neuronas, y a las salidas a través de sinapsis modeladas como pesos numéricos. Las neuronas realizan cálculos con sus valores de entrada para producir un valor de salida. La salida a su vez puede servir de entrada para subsecuentes neuronas o unidades de salida permitiendo la estructura reticular.\n",
    "+ Salidas: calculan un valor final para la RNA.\n",
    "\n",
    "![Neurona artificial](https://docs.google.com/drawings/d/e/2PACX-1vRB4UvKVoNPh3sbnu4U1rPLgTu_u6rBTK6bt_a04aOYn70bZ7b2zheOdA7dpIP2qZTGc_E2kgYTgAP4/pub?w=384&h=280)\n",
    "\n",
    "La susmación de actividad $s$ de una neurona se calcula sumando el producto de cada una de sus entradas $x_i$ por el correspondiente peso $p_i$ asignado a cada sinapsis.\n",
    "\n",
    "$$\n",
    "s = \\sum_{i=1}^{n} x_i p_i\n",
    "$$\n",
    "\n",
    "La activación de la neurona determinará cuál será su valor de salida. Es una función de la actividad de las entradas, de manera análoga al proceso de sumación temporal y el disparo de un potencial de acción en una neurona biológica. \n",
    "\n",
    "### Funciones de activación\n",
    "\n",
    "#### Sigmoide\n",
    "\n",
    "Definiremos a la función de activación $f_{act}(s)$ como la función *sigmoide* también llamada *logística*.\n",
    "\n",
    "$$\n",
    "f_{act}(s) = \\mathrm{sigmoide}(s) = \\frac{1}{1+\\mathrm{e}^{-s}}\n",
    "$$\n",
    "\n",
    "Para comprender el comportamiento de la función $\\mathrm{sigmoide}$, recordemos algunos límites:\n",
    "\n",
    "$$\n",
    "\\lim_{x \\to \\infty} \\mathrm{e}^{-x} = 0\n",
    "$$\n",
    "\n",
    "$$\n",
    "\\lim_{x \\to -\\infty} \\mathrm{e}^{-x} = \\infty\n",
    "$$\n",
    "\n",
    "$$\n",
    "\\lim_{x \\to \\infty} \\frac{1}{x} = 0\n",
    "$$\n",
    "\n",
    "$$\n",
    "\\mathrm{e}^{0} = 1\n",
    "$$\n",
    "\n",
    "De esta forma tenemos que la función  $\\mathrm{sigmoide}$ se mueve en el rango $[0, 1]$ para argumentos en el rango $[-\\infty, \\infty]$."
   ]
  },
  {
   "cell_type": "code",
   "execution_count": 276,
   "metadata": {},
   "outputs": [],
   "source": [
    "def sigmoide(x):\n",
    "    return 1 / (1 + np.exp(-x))"
   ]
  },
  {
   "cell_type": "code",
   "execution_count": 277,
   "metadata": {},
   "outputs": [
    {
     "data": {
      "image/png": "[encoded data removed]",
      "text/plain": [
       "<matplotlib.figure.Figure at 0x7fda2cf7e128>"
      ]
     },
     "metadata": {},
     "output_type": "display_data"
    }
   ],
   "source": [
    "%matplotlib inline\n",
    "\n",
    "x = np.arange(-10, 11, 0.01)\n",
    "plt.plot(x, sigmoide(x))\n",
    "plt.xlabel('x')\n",
    "plt.ylabel('sigmoide(x)')\n",
    "plt.show()"
   ]
  },
  {
   "cell_type": "markdown",
   "metadata": {},
   "source": [
    "Otras funciones típicamente utilizadas como funciones de activación son la tangente hiperbólica $tanh(x)$ y $step(x, \\Theta)$\n",
    "\n",
    "#### Tangente hiperbólica\n",
    "\n",
    "La función $tanh(x)$ se mueve en el rango $[-1, 1]$."
   ]
  },
  {
   "cell_type": "code",
   "execution_count": 278,
   "metadata": {},
   "outputs": [
    {
     "data": {
      "image/png": "[encoded data removed]",
      "text/plain": [
       "<matplotlib.figure.Figure at 0x7fda2cf7e7f0>"
      ]
     },
     "metadata": {},
     "output_type": "display_data"
    }
   ],
   "source": [
    "plt.plot(x, np.tanh(x))\n",
    "plt.xlabel('x')\n",
    "plt.ylabel('tanh(x)')\n",
    "plt.show()"
   ]
  },
  {
   "cell_type": "markdown",
   "metadata": {},
   "source": [
    "#### Función *step*\n",
    "\n",
    "La función $step(x, \\Theta)$ recibe un argumento $\\Theta$ que delimita un umbral. Se define de la siguiente manera:\n",
    "\n",
    "$$\n",
    "step(x, \\Theta) = \n",
    "\\begin{cases}\n",
    "    1, x \\ge \\Theta \\\\\n",
    "    0, x < \\Theta\n",
    "\\end{cases}\n",
    "$$"
   ]
  },
  {
   "cell_type": "code",
   "execution_count": 279,
   "metadata": {},
   "outputs": [
    {
     "data": {
      "image/png": "[encoded data removed]",
      "text/plain": [
       "<matplotlib.figure.Figure at 0x7fda2cf7ecc0>"
      ]
     },
     "metadata": {},
     "output_type": "display_data"
    }
   ],
   "source": [
    "step = lambda x, theta: 1 if x >= theta else 0\n",
    "\n",
    "plt.plot(x, [step(xi, theta = 0.5) for xi in x])\n",
    "plt.xlabel('x')\n",
    "plt.ylabel('step(x, 0.5)')\n",
    "plt.show()"
   ]
  },
  {
   "cell_type": "markdown",
   "metadata": {},
   "source": [
    "## Propagación hacia adelante\n",
    "\n",
    "El algoritmo de propagación hacia adelante permite procesar las entradas, distribuyéndolas aritméticamente a través de todas las neuronas hasta finalmente producir una salida.\n",
    "\n",
    "Supongamos la siguiente arquitectura para la RNA que nos permitirá procesar nuestro ejemplo.\n",
    "\n",
    "![Propagación hacia adelante](https://docs.google.com/drawings/d/e/2PACX-1vSQSCKo8cHkbtuIqNW35LCczkk1qIk6qGLyFIqCWucl7CueVn2xRdRkkxGkJ2Q-pPtlpwvOzre-Jnxv/pub?w=549&h=625)\n",
    "\n",
    "Es importante recalcar que no hay un conjunto de reglas para determinar cuál debe ser la arquitectura de nuestra RNA. Esta arquitectura se escogió por su simplicidad, sin embargo no necesariamente será la óptima para modelar nuestro problema.¿Cómo seleccionar la arquitectura óptima? El número de entradas y de salidas viene determinado por el conjunto de datos que estemos utilizando. Sin embargo no hay reglas para definir el número de capas intermedias de neuronas, ni cuántas neuronas debe contener cada capa. Estos son parámetros de la construcción de la RNA; podemos definir sus valores a partir de la experiencia, de alguna hipótesis matemática basada en nuestro entendimiento del problema y del funcionamiento de las RNA, o puede ser producto de la aplicación de algún algoritmo de optimización como *simulated annealing* o algún algoritmo genético.\n",
    "\n",
    "Podemos representar las entradas, pesos y neuronas con matrices y de esta forma simplificar la presentación de los cálculos necesarios para realizar la propagación hacia adelante.\n",
    "\n",
    "Supongamos el siguiente subconjunto de datos simplificado de tan solo 3 observaciones."
   ]
  },
  {
   "cell_type": "code",
   "execution_count": 280,
   "metadata": {},
   "outputs": [
    {
     "data": {
      "text/html": [
       "<div>\n",
       "<style scoped>\n",
       "    .dataframe tbody tr th:only-of-type {\n",
       "        vertical-align: middle;\n",
       "    }\n",
       "\n",
       "    .dataframe tbody tr th {\n",
       "        vertical-align: top;\n",
       "    }\n",
       "\n",
       "    .dataframe thead th {\n",
       "        text-align: right;\n",
       "    }\n",
       "</style>\n",
       "<table border=\"1\" class=\"dataframe\">\n",
       "  <thead>\n",
       "    <tr style=\"text-align: right;\">\n",
       "      <th></th>\n",
       "      <th>masa</th>\n",
       "      <th>ancho</th>\n",
       "      <th>alto</th>\n",
       "      <th>color</th>\n",
       "      <th>clase</th>\n",
       "    </tr>\n",
       "  </thead>\n",
       "  <tbody>\n",
       "    <tr>\n",
       "      <th>1</th>\n",
       "      <td>180</td>\n",
       "      <td>8.0</td>\n",
       "      <td>6.8</td>\n",
       "      <td>0.59</td>\n",
       "      <td>0</td>\n",
       "    </tr>\n",
       "    <tr>\n",
       "      <th>13</th>\n",
       "      <td>164</td>\n",
       "      <td>7.3</td>\n",
       "      <td>7.7</td>\n",
       "      <td>0.70</td>\n",
       "      <td>0</td>\n",
       "    </tr>\n",
       "    <tr>\n",
       "      <th>25</th>\n",
       "      <td>356</td>\n",
       "      <td>9.2</td>\n",
       "      <td>9.2</td>\n",
       "      <td>0.75</td>\n",
       "      <td>1</td>\n",
       "    </tr>\n",
       "  </tbody>\n",
       "</table>\n",
       "</div>"
      ],
      "text/plain": [
       "    masa  ancho  alto  color  clase\n",
       "1    180    8.0   6.8   0.59      0\n",
       "13   164    7.3   7.7   0.70      0\n",
       "25   356    9.2   9.2   0.75      1"
      ]
     },
     "execution_count": 280,
     "metadata": {},
     "output_type": "execute_result"
    }
   ],
   "source": [
    "data.loc[[1,13,25]]"
   ]
  },
  {
   "cell_type": "markdown",
   "metadata": {},
   "source": [
    "Podemos representar $X$ como la matriz de entradas $3 \\times 4$, donde cada fila corresponde a una observación y cada columna a una variable del problema en el siguiente orden: `masa`, `ancho`, `alto`, `color`.\n",
    "\n",
    "$$\n",
    "X =\n",
    "\\begin{bmatrix}\n",
    "    180 & 8.0 & 6.8 & 0.59 \\\\\n",
    "    164 & 7.3 & 7.7 & 0.70 \\\\\n",
    "    356 & 9.2 & 9.2 & 0.75\n",
    "\\end{bmatrix}\n",
    "$$\n",
    "\n",
    "En el caso de nuestro conjunto de datos completo la matriz tendría dimensiones $150 \\times 4$.\n",
    "\n",
    "Notemos que la última variable `clase` queda por fuera, pues correspondería al valor categórico $y$ que buscamos estimar."
   ]
  },
  {
   "cell_type": "code",
   "execution_count": 281,
   "metadata": {},
   "outputs": [
    {
     "name": "stdout",
     "output_type": "stream",
     "text": [
      "[[ 0.08333333  0.36842105  0.          0.        ]\n",
      " [ 0.          0.          0.375       0.6875    ]\n",
      " [ 1.          1.          1.          1.        ]]\n"
     ]
    }
   ],
   "source": [
    "X = data.loc[[1,13,25]][['masa', 'ancho', 'alto', 'color']].values\n",
    "\n",
    "scaler = pre.MinMaxScaler()\n",
    "\n",
    "X = scaler.fit_transform(X)\n",
    "print(X)"
   ]
  },
  {
   "cell_type": "code",
   "execution_count": 282,
   "metadata": {},
   "outputs": [
    {
     "name": "stdout",
     "output_type": "stream",
     "text": [
      "[[0]\n",
      " [0]\n",
      " [1]]\n"
     ]
    }
   ],
   "source": [
    "y = data.loc[[1,13,25]]['clase'].values.reshape(3,1)\n",
    "print(y)"
   ]
  },
  {
   "cell_type": "markdown",
   "metadata": {},
   "source": [
    "*Nota*: en el ejemplo anterior hicimos un paso de normalización de las entradas de $X$. Las RNA funcionan mejor cuando sus entradas están en el rango $[0, 1]$ o $[-1, 1]$. En el caso de nuestro conjunto de datos, como todas las variables corresponden a medidas de longitud podemos normalizarlas dividiendo por la máxima longitud disponible en los datos.\n",
    "\n",
    "**Ejercicio**: ¿Porqué las RNA funcionan mejor cuando sus entradas están en el rango $[0, 1]$ o $[-1,1]$? Investigue y trabaje una posible explicación, tome en cuenta los mecanismos de sumación de actividad y la función de activación.\n",
    "\n",
    "Los pesos de las sinapsis entre las entradas y la capa de neuronas oculta $P1$ los podemos modelar también como una matriz de dimensiones $4 \\times 5$. En esta matriz cada columna representa los pesos asociados entre las entradas y la neurona correspondiente; por ejemplo, la columna $p_{13}, p_{23}, p_{33}, p_{43}$ representa los pesos para la neurona 3. De manera más detallada, el elemento $p_{13}$ representa el peso de la sinapsis entre la variable 1 de la entrada $x_1$ y la neurona 3.\n",
    "\n",
    "$$\n",
    "P1 = \n",
    "\\begin{bmatrix}\n",
    "    p_{11} & p_{12} & p_{13} & p_{14} & p_{15} \\\\\n",
    "    p_{21} & p_{22} & p_{23} & p_{24} & p_{25} \\\\\n",
    "    p_{31} & p_{32} & p_{33} & p_{34} & p_{35} \\\\\n",
    "    p_{41} & p_{42} & p_{43} & p_{44} & p_{45}    \n",
    "\\end{bmatrix}\n",
    "$$\n",
    "\n",
    "Los valores para los pesos de las neuronas son inicialmente definidos aleatoriamente. Será posteriormente, en el paso de aprendizaje (propagación hacia atrás), que se calcularán los pesos finales del modelo."
   ]
  },
  {
   "cell_type": "code",
   "execution_count": 283,
   "metadata": {},
   "outputs": [
    {
     "name": "stdout",
     "output_type": "stream",
     "text": [
      "[[ 0.37454012  0.95071431  0.73199394  0.59865848  0.15601864]\n",
      " [ 0.15599452  0.05808361  0.86617615  0.60111501  0.70807258]\n",
      " [ 0.02058449  0.96990985  0.83244264  0.21233911  0.18182497]\n",
      " [ 0.18340451  0.30424224  0.52475643  0.43194502  0.29122914]]\n"
     ]
    }
   ],
   "source": [
    "P1 = np.random.rand(4,5)\n",
    "print(P1)"
   ]
  },
  {
   "cell_type": "markdown",
   "metadata": {},
   "source": [
    "La sumación de actividad para la capa de neuronas oculta se puede definir entonces como una multiplicación de matrices.\n",
    "\n",
    "$$\n",
    "S2 = X \\cdot P1 =\n",
    "$$\n",
    "\n",
    "$$\n",
    "\\begin{bmatrix}\n",
    "    0.08  p_{11} + 0.36  p_{21} + 0.0  p_{31} + 0.0  p_{41} & \\dots & \\\\\n",
    "    \\dots & \\dots \\\\\n",
    "    \\dots & 1  p_{15} + 1  p_{25} + 1  p_{35} + 1  p_{45} \\\\\n",
    "\\end{bmatrix}\n",
    "$$\n",
    "\n",
    "La matriz resultante $S2$ para nuestro subconjunto de ejemplo tendrá dimensiones $3 \\times 5$. Por otro lado, la matriz resultante $S2$ para el conjunto total tendría dimensiones $38 \\times 5$.\n",
    "\n",
    "Cada elemento de $S2$ representa la actividad generada por la observación en la neurona correspondiente. Por ejemplo $S2_{11}$ representa la sumación de actividad total de la observación 1 en la neurona 1; mientras que $S2_{34}$ representa la sumación de actividad total generada por la observación 3 en la neurona 4."
   ]
  },
  {
   "cell_type": "code",
   "execution_count": 284,
   "metadata": {},
   "outputs": [
    {
     "name": "stdout",
     "output_type": "stream",
     "text": [
      "[[ 0.08868334  0.10062542  0.38011702  0.27135163  0.2738704 ]\n",
      " [ 0.13380979  0.57288274  0.67293604  0.37658937  0.2684044 ]\n",
      " [ 0.73452364  2.28295001  2.95536916  1.84405763  1.33714533]]\n"
     ]
    }
   ],
   "source": [
    "S2 = np.dot(X, P1)\n",
    "print(S2)"
   ]
  },
  {
   "cell_type": "markdown",
   "metadata": {},
   "source": [
    "Una vez calculada la sumación de actividad, necesitamos determinar si  es suficiente para que nuestras neuronas generen su valor de salida. Con este fin aplicaremos la función de activación $f_{act}$ a cada elemento de $S2$.\n",
    "\n",
    "Recordemos que estaremos utilizando la función *sigmoide* como función de activación.\n",
    "\n",
    "$$\n",
    "f_{act}(s) = \\frac{1}{1 + \\mathrm{e}^{-s}}\n",
    "$$\n",
    "\n",
    "Al resultado de la aplicación de $f_{act}$ sobre $S2$ le llamaremos $A2$.\n",
    "\n",
    "$$\n",
    "A2 = f_{act}(S2) = \n",
    "\\begin{bmatrix}\n",
    "    f_{act}(S2_{11}) & f_{act}(S2_{12}) & f_{act}(S2_{13}) & f_{act}(S2_{14}) & f_{act}(S2_{15}) \\\\\n",
    "    f_{act}(S2_{21}) & f_{act}(S2_{22}) & f_{act}(S2_{23}) & f_{act}(S2_{24}) & f_{act}(S2_{25}) \\\\\n",
    "    f_{act}(S2_{31}) & f_{act}(S2_{32}) & f_{act}(S2_{33}) & f_{act}(S2_{34}) & f_{act}(S2_{35}) \\\\\n",
    "\\end{bmatrix}\n",
    "$$"
   ]
  },
  {
   "cell_type": "code",
   "execution_count": 285,
   "metadata": {},
   "outputs": [
    {
     "name": "stdout",
     "output_type": "stream",
     "text": [
      "[[ 0.52215632  0.52513515  0.59390133  0.5674247   0.56804283]\n",
      " [ 0.53340262  0.63942809  0.66216027  0.59305024  0.56670114]\n",
      " [ 0.67579717  0.90745509  0.95051664  0.86342789  0.7920201 ]]\n"
     ]
    }
   ],
   "source": [
    "A2 = sigmoide(S2)\n",
    "print(A2)"
   ]
  },
  {
   "cell_type": "markdown",
   "metadata": {},
   "source": [
    "La matriz $A2$ será a su vez la entrada para calcular el valor final de la estimación de $y$ que llamaremos $ŷ$. En una RNA con más de una capa de neuronas, la salida de la capa $A2$ será su vez la entrada para la siguiente capa, produciendo al final una nueva matriz $A3$ y así sucesivamente.\n",
    "\n",
    "Para calcular la sumación de actividad en la siguiente capa de salida recurrimos nuevamente a la multiplicación de matrices.\n",
    "\n",
    "$$\n",
    "S3 = A2 \\cdot P2\n",
    "$$\n",
    "\n",
    "Recordemos que $A2$ tiene dimensiones $3 \\times 5$; por otro lado $P2$ será una matriz de $5 \\times 1$ representando los pesos de las sinapsis entre la capa oculta y la unidad de salida.\n",
    "\n",
    "$$\n",
    "P2 = \n",
    "\\begin{bmatrix}\n",
    "    p_{11} \\\\\n",
    "    p_{21} \\\\\n",
    "    p_{31} \\\\\n",
    "    p_{41} \\\\\n",
    "    p_{51}\n",
    "\\end{bmatrix}\n",
    "$$"
   ]
  },
  {
   "cell_type": "code",
   "execution_count": 286,
   "metadata": {},
   "outputs": [
    {
     "name": "stdout",
     "output_type": "stream",
     "text": [
      "[[ 0.61185289]\n",
      " [ 0.13949386]\n",
      " [ 0.29214465]\n",
      " [ 0.36636184]\n",
      " [ 0.45606998]]\n"
     ]
    }
   ],
   "source": [
    "P2 = np.random.rand(5,1)\n",
    "print(P2)"
   ]
  },
  {
   "cell_type": "markdown",
   "metadata": {},
   "source": [
    "La matriz de sumación de actividad $S3$ tendrá entonces una dimensión $3 \\times 1$. Cada elemento de la matriz representa la sumación de actividad de las 5 neuronas de la capa oculta para cada observación.\n",
    "\n",
    "$$\n",
    "S3=\n",
    "\\begin{bmatrix}\n",
    "    A2_{11}p_{11} + A2_{12}p_{21} + A2_{13}p_{31} + A2_{14}p_{41} + A2_{15} p_{51}\\\\\n",
    "    A2_{21}p_{11} + A2_{22}p_{21} + A2_{23}p_{31} + A2_{24}p_{41} + A2_{25} p_{51}\\\\\n",
    "    A2_{31}p_{11} + A2_{32}p_{21} + A2_{33}p_{31} + A2_{34}p_{41} + A2_{35} p_{51}\\\\\n",
    "\\end{bmatrix}\n",
    "$$"
   ]
  },
  {
   "cell_type": "code",
   "execution_count": 287,
   "metadata": {},
   "outputs": [
    {
     "name": "stdout",
     "output_type": "stream",
     "text": [
      "[[ 1.03319112]\n",
      " [ 1.08473317]\n",
      " [ 1.49530484]]\n"
     ]
    }
   ],
   "source": [
    "S3 = np.dot(A2, P2)\n",
    "print(S3)"
   ]
  },
  {
   "cell_type": "markdown",
   "metadata": {},
   "source": [
    "Finalmente calculamos la activación de $S3$ a través de la aplicación de la función de activación a cada uno de sus elementos.\n",
    "\n",
    "$$\n",
    "\\hat{y} = f_{act}(S3) = \n",
    "\\begin{bmatrix}\n",
    "    f_{act}(S3_{11}) \\\\\n",
    "    f_{act}(S3_{21}) \\\\\n",
    "    f_{act}(S3_{31}) \\\\\n",
    "\\end{bmatrix}\n",
    "$$"
   ]
  },
  {
   "cell_type": "code",
   "execution_count": 288,
   "metadata": {},
   "outputs": [
    {
     "name": "stdout",
     "output_type": "stream",
     "text": [
      "Estimado:\n",
      "[[ 0.73753409]\n",
      " [ 0.74738865]\n",
      " [ 0.81687317]]\n",
      "\n",
      "Esperado:\n",
      "[[0]\n",
      " [0]\n",
      " [1]]\n"
     ]
    }
   ],
   "source": [
    "yhat = sigmoide(S3)\n",
    "print('Estimado:')\n",
    "print(yhat)\n",
    "print('\\nEsperado:')\n",
    "print(y)"
   ]
  },
  {
   "cell_type": "markdown",
   "metadata": {},
   "source": [
    "Las estimaciones de nuestra RNA no son particularmente buenas. De hecho son estimaciones al azar, dada la iniciación aleatoria de las matrices de pesos $P1$ y $P2$.\n",
    "\n",
    "El aprendizaje en RNA se da a través del proceso de propagación hacia atrás, que ajusta los pesos con base en una tasa de error calculada entre la estimación $\\hat{y}$ y el valor real esperado $y$."
   ]
  },
  {
   "cell_type": "markdown",
   "metadata": {},
   "source": [
    "## Propagación hacia atrás\n",
    "\n",
    "### Tasa de error\n",
    "\n",
    "El proceso de propagación hacia atrás requiere que definamos una función de costo, esta función cuantificará la tasa de error en las estimaciones de $\\hat{y}$ con respecto al valor real esperado $y$ para cada una de nuestras observaciones.\n",
    "\n",
    "Definiremos nuestra función de costo de la siguiente manera:\n",
    "\n",
    "$$\n",
    "f_{costo} = \\sum_{i=1}^{obs} \\frac{1}{2} (y_i - \\hat{y}_i)^2\n",
    "$$\n",
    "\n",
    "Esta función calcula la suma total de las diferencias entre cada uno de los elementos de  la matriz $\\hat{y}$ y su correspondiente valor esperado en la matriz $y$. Conforme las estimaciones sean mejores la función de costo se irá acercando a cero."
   ]
  },
  {
   "cell_type": "code",
   "execution_count": 289,
   "metadata": {},
   "outputs": [],
   "source": [
    "def fcosto(y, yhat):\n",
    "    return np.sum(0.5 * (y - yhat)**2)"
   ]
  },
  {
   "cell_type": "code",
   "execution_count": 290,
   "metadata": {},
   "outputs": [
    {
     "name": "stdout",
     "output_type": "stream",
     "text": [
      "costo: 0.568040882787\n"
     ]
    }
   ],
   "source": [
    "costo = fcosto(y, yhat)\n",
    "print('costo:', costo)"
   ]
  },
  {
   "cell_type": "markdown",
   "metadata": {},
   "source": [
    "### Descenso por gradiente\n",
    "\n",
    "El descenso por gradiente es un proceso de optimización que nos permitirá minimizar la función de costo, y por tanto minimizar el error de las estimaciones del modelo.\n",
    "\n",
    "La función de costo depende de $y$ y de $\\hat{y}$. La matriz $y$ la podemos considerar constante pues depende del conjunto de datos y no podemos manipularla. Por otro lado $\\hat{y}$ es función de $X$, $P1$ y $P2$; $X$ es también parte de nuestro conjunto de datos y tampoco podemos manipularla. De esta forma, nuestra estimación es producto de los pesos de la RNA. Los pesos si podemos modificarlos en busca de mejores estimaciones.\n",
    "\n",
    "Tenemos entonces una función de costo que es cóncava debido a su naturaleza cuadrática, y que es función tanto de P1 como P2. Nuestro objetivo es encontrar la combinación de P1 y P2 que minimicen el error.\n",
    "\n",
    "![Descenso](https://docs.google.com/drawings/d/e/2PACX-1vRUmNGppGsuEjs4QKhtwC1hSrdNBqz36jXoKwSjsFTTQbzGYDIQMCAxKIn5tbJEnzDKKRp8Nb2Wf_tV/pub?w=960&h=720)\n",
    "\n",
    "Recordemos que la derivada de una función permite determinar el cambio  de su valor con respecto a su variable independiente. La derivada se calcula como la pendiente de una recta tangente a la curva de la función. Utilizando la derivada de la función de costo podemos saber, para cualquier punto de la curva, si la pendiente desciende (cuando la derivada es negativa) o si la pendiente asciende (cuando es positiva). De esta forma podemos saber cómo debemos variar P1 y P2 para siempre descender hasta el mínimo global.\n",
    "\n",
    "![Derivada](https://docs.google.com/drawings/d/e/2PACX-1vRkGj6sCMhfUxdDMIOjtLU5ryDmv7BxFydq_FQtc-0s5q9Nv7GcrQJWuXheiyok2X037voMjGtRcBAw/pub?w=467&h=287)\n",
    "\n",
    "#### Derivada en $P2$\n",
    "\n",
    "Debemos entonces calcular la derivada de nuestra función de costo. Recordemos que $f_{costo}$ está definida en términos tanto de $P1$ como de $P2$, por tanto debemos calcular derivadas parciales $\\frac{\\partial f_{costo}}{\\partial P1}$ y $\\frac{\\partial f_{costo}}{\\partial P2}$ para ajustar cada matriz de pesos de manera individual.\n",
    "\n",
    "Empecemos por P2.\n",
    "\n",
    "$$\n",
    "\\frac{\\partial f_{costo}}{\\partial P2} = \\frac{\\partial \\sum_{i=1}^{obs} \\frac{1}{2} (y_i - \\hat{y}_i)^2}{\\partial P2}\n",
    "$$\n",
    "\n",
    "Para simplificar el problema, podemos calcular la derivada para un sólo caso, y posteriormente sumar todas las derivadas valiéndonos de la regla de la suma de derivadas.\n",
    "\n",
    "$$\n",
    "\\frac{\\partial f_{costo}}{\\partial P2} = \\frac{\\partial \\frac{1}{2} (y - \\hat{y})^2}{\\partial P2}\n",
    "$$\n",
    "\n",
    "Extraemos la constante.\n",
    "\n",
    "$$\n",
    "= \\frac{1}{2}  \\frac{\\partial  (y - \\hat{y})^2}{\\partial P2}\n",
    "$$\n",
    "\n",
    "Aplicamos regla de la cadena y simplificamos.\n",
    "\n",
    "$$\n",
    "= \\frac{1}{2} 2 (y - \\hat{y}) \\frac{\\partial (y - \\hat{y})}{\\partial P2}\n",
    "$$\n",
    "\n",
    "$$\n",
    "= (y - \\hat{y}) \\frac{\\partial (y - \\hat{y})}{\\partial P2}\n",
    "$$\n",
    "\n",
    "Por regla de la suma.\n",
    "\n",
    "$$\n",
    "= (y - \\hat{y}) \\left( \\frac{\\partial y}{\\partial P2} - \\frac{\\partial \\hat{y}}{\\partial P2} \\right)\n",
    "$$\n",
    "\n",
    "Recordemos que $y$ se mantiene constante y no cambia en términos de $P2$, entonces por la regla de la constante.\n",
    "\n",
    "$$\n",
    "= (y - \\hat{y}) \\left( 0 - \\frac{\\partial \\hat{y}}{\\partial P2} \\right)\n",
    "$$\n",
    "\n",
    "$$\n",
    "= -(y - \\hat{y}) \\frac{\\partial \\hat{y}}{\\partial P2}\n",
    "$$\n",
    "\n",
    "En este punto, puesto que $\\hat{y} = f_{act}(S3)$ podemos aplicar nuevamente la regla de la cadena.\n",
    "\n",
    "$$\n",
    "= -(y - \\hat{y}) \\frac{\\partial \\hat{y}}{\\partial S3} \\frac{\\partial S3}{\\partial P2}\n",
    "$$\n",
    "\n",
    "\n",
    "$$\n",
    "= -(y - \\hat{y}) \\frac{\\partial f_{act}(S3)}{\\partial S3} \\frac{\\partial S3}{\\partial P2}\n",
    "$$\n",
    "\n",
    "\n",
    "$$\n",
    "= -(y - \\hat{y}) f^\\prime_{act}(S3) \\frac{\\partial S3}{\\partial P2}\n",
    "$$"
   ]
  },
  {
   "cell_type": "markdown",
   "metadata": {},
   "source": [
    "---\n",
    "\n",
    "Hagamos un paréntesis para determinar $f^\\prime_{act}$.\n",
    "\n",
    "$$\n",
    "f_{act}(s) = \\frac{1}{1+\\mathrm{e}^{-s}}\n",
    "$$\n",
    "\n",
    "$$\n",
    "f^\\prime_{act}(s) = \\frac{\\mathrm{d}f_{act}(s)}{\\mathrm{d}s} = \\frac{\\mathrm{d}}{\\mathrm{d}s} \\frac{1}{1+\\mathrm{e}^{-s}}\n",
    "$$\n",
    "\n",
    "$$\n",
    "= \\frac{\\mathrm{d}}{\\mathrm{d}s} ({1+\\mathrm{e}^{-s}})^{-1}\n",
    "$$\n",
    "\n",
    "Aplicando regla de la cadena.\n",
    "\n",
    "$$\n",
    "= -({1+\\mathrm{e}^{-s}})^{-2} \\frac{\\mathrm{d}}{\\mathrm{d}s} \\left({1+\\mathrm{e}^{-s}}\\right)\n",
    "$$\n",
    "\n",
    "$$\n",
    "= -\\frac{1}{({1+\\mathrm{e}^{-s}})^{2}} \\frac{\\mathrm{d}}{\\mathrm{d}s} \\left({1+\\mathrm{e}^{-s}}\\right)\n",
    "$$\n",
    "\n",
    "Regla de la suma.\n",
    "\n",
    "$$\n",
    "= -\\frac{1}{(1+\\mathrm{e}^{-s})^2} \n",
    "    \\left(\\frac{\\mathrm{d}}{\\mathrm{d}s} 1 +\n",
    "    \\frac{\\mathrm{d}}{\\mathrm{d}s} \\left(\\mathrm{e}^{-s}\\right) \\right)\n",
    "$$\n",
    "\n",
    "Regla de la constante.\n",
    "\n",
    "$$\n",
    "= -\\frac{1}{(1+\\mathrm{e}^{-s})^2} \n",
    "    \\left(0 +\n",
    "    \\frac{\\mathrm{d}}{\\mathrm{d}s} \\left(\\mathrm{e}^{-s}\\right) \\right)\n",
    "$$\n",
    "\n",
    "$$\n",
    "= -\\frac{1}{(1+\\mathrm{e}^{-s})^2} \\frac{\\mathrm{d}}{\\mathrm{d}s} \\mathrm{e}^{-s}\n",
    "$$\n",
    "\n",
    "Por regla de la cadena.\n",
    "\n",
    "$$\n",
    "= -\\frac{1}{(1+\\mathrm{e}^{-s})^2} \\left( \\mathrm{e}^{-s} \\frac{\\mathrm{d}}{\\mathrm{d}s}-s \\right)\n",
    "$$\n",
    "\n",
    "Sacando la constante.\n",
    "\n",
    "$$\n",
    "= -\\frac{1}{(1+\\mathrm{e}^{-s})^2} \\mathrm{e}^{-s} \\left(-\\frac{\\mathrm{d}}{\\mathrm{d}s}s \\right)\n",
    "$$\n",
    "\n",
    "$$\n",
    "= -\\frac{1}{(1+\\mathrm{e}^{-s})^2} \\mathrm{e}^{-s} \\left(-1\\right)\n",
    "$$\n",
    "\n",
    "Simplificando.\n",
    "\n",
    "$$\n",
    "f^\\prime_{act}(s) = \\frac{\\mathrm{e}^{-s}}{(1+\\mathrm{e}^{-s})^2}\n",
    "$$\n"
   ]
  },
  {
   "cell_type": "code",
   "execution_count": 291,
   "metadata": {},
   "outputs": [],
   "source": [
    "def sigmoidePrima(s):\n",
    "    return np.exp(-s) / (1 + np.exp(-s)) ** 2"
   ]
  },
  {
   "cell_type": "markdown",
   "metadata": {},
   "source": [
    "---"
   ]
  },
  {
   "cell_type": "markdown",
   "metadata": {},
   "source": [
    "Volvemos ahora a la derivada parcial de nuestra función de costo en términos de $P2$.\n",
    "\n",
    "$$\n",
    "\\frac{\\partial f_{costo}}{\\partial P2} = -(y - \\hat{y}) f^\\prime_{act}(S3) \\frac{\\partial S3}{\\partial P2}\n",
    "$$\n",
    "\n",
    "Antes de resolver nuestra última derivada, recordemos que por simplicidad asumimos el supuesto de estar trabajando en una sola observación. En este punto debemos volver a tomar en cuenta la dimensionalidad de nuestras unidades. Para la primera parte de nuestra derivada parcial tenemos operaciones a nivel escalar.\n",
    "\n",
    "$$\n",
    "-(y - \\hat{y}) = -1 \\cdot\n",
    "\\begin{bmatrix}\n",
    "    y_{11} \\\\\n",
    "    y_{21} \\\\\n",
    "    y_{31} \\\\\n",
    "\\end{bmatrix} \n",
    "-\n",
    "\\begin{bmatrix}\n",
    "    \\hat{y}_{11} \\\\\n",
    "    \\hat{y}_{21} \\\\\n",
    "    \\hat{y}_{31}\n",
    "\\end{bmatrix}\n",
    "=\n",
    "\\begin{bmatrix}\n",
    "    -y_{11} - \\hat{y}_{11} \\\\\n",
    "    -y_{21} - \\hat{y}_{21} \\\\\n",
    "    -y_{31} - \\hat{y}_{31}\n",
    "\\end{bmatrix}\n",
    "$$\n",
    "\n",
    "Luego $-(y - \\hat{y}) \\cdot f^\\prime_{act}(S3)$ es una multiplicación escalar que llamaremos $\\Delta3$.\n",
    "\n",
    "$$\n",
    "\\Delta3 =\n",
    "\\begin{bmatrix}\n",
    "    -y_{11} - \\hat{y}_{11} \\\\\n",
    "    -y_{21} - \\hat{y}_{21} \\\\\n",
    "    -y_{31} - \\hat{y}_{31}\n",
    "\\end{bmatrix}\n",
    "\\cdot\n",
    "\\begin{bmatrix}\n",
    "    f^\\prime_{act}(S3_{11}) \\\\\n",
    "    f^\\prime_{act}(S3_{21}) \\\\\n",
    "    f^\\prime_{act}(S3_{31})\n",
    "\\end{bmatrix}\n",
    "=\n",
    "\\begin{bmatrix}\n",
    "    (-y_{11} - \\hat{y}_{11}) \\cdot f^\\prime_{act}(S3_{11}) \\\\\n",
    "    (-y_{21} - \\hat{y}_{21}) \\cdot f^\\prime_{act}(S3_{21}) \\\\\n",
    "    (-y_{31} - \\hat{y}_{31}) \\cdot f^\\prime_{act}(S3_{31}) \\\\\n",
    "\\end{bmatrix}\n",
    "$$\n",
    "\n",
    "Podemos entender a $\\Delta3$ como la cuantificación del error que se propaga desde la capa de unidades de salida de vuelta hacia la capa de neuronas intermedia.\n",
    "\n",
    "Podemos reformular entonces nuestra derivada parcial.\n",
    "\n",
    "$$\n",
    "\\frac{\\partial f_{costo}}{\\partial P2} = \\Delta3 \\frac{\\partial S3}{\\partial P2}\n",
    "$$\n",
    "\n",
    "Y resolvemos el último término pendiente tomando en cuenta que $S3 = A2 \\cdot P2$.\n",
    "\n",
    "$$\n",
    "= \\Delta3 \\frac{\\partial A2 \\cdot P2}{\\partial P2}\n",
    "$$\n",
    "\n",
    "$$\n",
    "= \\Delta3 \\cdot A2\n",
    "$$\n",
    "\n",
    "Debemos entonces multiplicar el error por la activación en la capa intermedia. Si tomamos en cuenta la dimensionalidad de $\\Delta3$ $(3 \\times 1)$ y $A2$ $(3 \\times 5)$ notamos que para lograr esta multiplicación necesitamos transformar $A2$ en su transpuesta. \n",
    "\n",
    "$$\n",
    "= A2^T \\cdot \\Delta3\n",
    "$$\n",
    "\n",
    "$$\n",
    "=\n",
    "\\begin{bmatrix}\n",
    "    A2_{11} & A2_{21} & A2_{31} \\\\\n",
    "    A2_{12} & A2_{22} & A2_{32} \\\\\n",
    "    A2_{13} & A2_{23} & A2_{33} \\\\\n",
    "    A2_{14} & A2_{24} & A2_{34} \\\\\n",
    "    A2_{15} & A2_{25} & A2_{35}\n",
    "\\end{bmatrix}\n",
    "\\cdot\n",
    "\\begin{bmatrix}\n",
    "    \\Delta3_{11} \\\\\n",
    "    \\Delta3_{21} \\\\\n",
    "    \\Delta3_{31} \n",
    "\\end{bmatrix} \n",
    "=\n",
    "\\begin{bmatrix}\n",
    "    A2_{11} \\Delta3_{11} + A2_{21} \\Delta3_{21} + A2_{31} \\Delta3_{31} \\\\\n",
    "    A2_{12} \\Delta3_{11} + A2_{22} \\Delta3_{21} + A2_{32} \\Delta3_{31} \\\\\n",
    "    A2_{13} \\Delta3_{11} + A2_{23} \\Delta3_{21} + A2_{33} \\Delta3_{31} \\\\  \n",
    "    A2_{14} \\Delta3_{11} + A2_{24} \\Delta3_{21} + A2_{34} \\Delta3_{31} \\\\  \n",
    "    A2_{15} \\Delta3_{11} + A2_{25} \\Delta3_{21} + A2_{35} \\Delta3_{31} \n",
    "\\end{bmatrix} \n",
    "$$\n",
    "\n",
    "Notemos que de esta forma cada fila corresponde a la suma de los errores de cada observación para cada una de las neuronas de la capa oculta; la matriz resultante tendrá dimensiones $(\\lvert capa\\ oculta \\rvert \\times \\lvert capa\\ salida\\rvert)$, es decir $5 \\times 1$ para nuestro caso de ejemplo. De esta forma logramos reintroducir además la sumatoria que eliminamos en el primer paso de nuestro proceso de derivación. \n",
    "\n",
    "Así finalmente obtenemos la definición de nuestra derivada parcial.\n",
    "\n",
    "\n",
    "$$\n",
    "\\frac{\\partial f_{costo}}{\\partial P2} = A2^T \\cdot \\Delta3\n",
    "$$"
   ]
  },
  {
   "cell_type": "code",
   "execution_count": 292,
   "metadata": {},
   "outputs": [
    {
     "name": "stdout",
     "output_type": "stream",
     "text": [
      "[[ 0.14277005]\n",
      " [ 0.14110612]\n",
      " [-0.0273942 ]]\n"
     ]
    }
   ],
   "source": [
    "Delta3 = -(y - yhat) * sigmoidePrima(S3)\n",
    "print(Delta3)"
   ]
  },
  {
   "cell_type": "code",
   "execution_count": 293,
   "metadata": {},
   "outputs": [
    {
     "name": "stdout",
     "output_type": "stream",
     "text": [
      "[[ 0.13130174]\n",
      " [ 0.14034178]\n",
      " [ 0.15218755]\n",
      " [ 0.14104135]\n",
      " [ 0.13936775]]\n"
     ]
    }
   ],
   "source": [
    "dfcosto_dP2 = np.dot(A2.T, Delta3)\n",
    "print(dfcosto_dP2)"
   ]
  },
  {
   "cell_type": "markdown",
   "metadata": {},
   "source": [
    "#### Derivada en $P1$\n",
    "\n",
    "Aún tenemos pendiente resolver nuestra otra derivada parcial en términos de $P1$.\n",
    "\n",
    "$$\n",
    "\\frac{\\partial f_{costo}}{\\partial P1} = \\frac{\\partial \\sum_{i=1}^{obs} \\frac{1}{2} (y_i - \\hat{y}_i)^2}{\\partial P1}\n",
    "$$\n",
    "\n",
    "Repitiendo los mismos pasos de la derivada anterior llegamos a este punto.\n",
    "\n",
    "$$\n",
    "= \\Delta3 \\frac{\\partial S3}{\\partial P1}\n",
    "$$\n",
    "\n",
    "Aplicando regla de la cadena.\n",
    "\n",
    "$$\n",
    "= \\Delta3 \\frac{\\partial S3}{\\partial A2} \\frac{\\partial A2}{\\partial P1}\n",
    "$$\n",
    "\n",
    "Expandiendo por $S3 = A2 \\cdot P2$.\n",
    "\n",
    "$$\n",
    "= \\Delta3 \\frac{\\partial A2 \\cdot P2}{\\partial A2} \\frac{\\partial A2}{\\partial P1}\n",
    "$$\n",
    "\n",
    "Tomando en cuenta la dimensionalidad de las matrices, utilizamos la transpuesta de $P2$. Otra manera de justificar la necesidad de transponer nuestras matrices implica tomar en cuenta que estamos realizando las operaciones en la dirección opuesta a la propagación hacia adelante.\n",
    "\n",
    "$$\n",
    "= \\Delta3 \\cdot P2^T \\frac{\\partial A2}{\\partial P1}\n",
    "$$\n",
    "\n",
    "Expandiendo por $A2 = f_{act}(S2)$.\n",
    "\n",
    "$$\n",
    "= \\Delta3 \\cdot P2^T \\frac{\\partial f_{act}(S2)}{\\partial P1}\n",
    "$$\n",
    "\n",
    "Por regla de la cadena.\n",
    "\n",
    "$$\n",
    "= \\Delta3 \\cdot P2^T \\frac{\\partial f_{act}(S2)}{\\partial S2} \\frac{\\partial S2}{\\partial P1}\n",
    "$$\n",
    "\n",
    "$$\n",
    "= \\Delta3 \\cdot P2^T \\cdot f^\\prime_{act}(S2) \\frac{\\partial S2}{\\partial P1}\n",
    "$$\n",
    "\n",
    "Expandiendo por $S2 = X \\cdot P1$.\n",
    "\n",
    "$$\n",
    "= \\Delta3 \\cdot P2^T \\cdot f^\\prime_{act}(S2) \\frac{\\partial X \\cdot P1}{\\partial P1}\n",
    "$$\n",
    "\n",
    "$$\n",
    " = \\Delta3 \\cdot P2^T \\cdot f^\\prime_{act}(S2) \\cdot X^T\n",
    "$$\n",
    "\n",
    "Definimos $\\Delta2$.\n",
    "\n",
    "$$\n",
    "\\Delta2 = \\Delta3 \\cdot P2^T \\cdot f^\\prime_{act}(S2)\n",
    "$$\n",
    "\n",
    "Y simplificamos.\n",
    "\n",
    "$$\n",
    "\\frac{\\partial f_{costo}}{\\partial P1} = X^T \\cdot \\Delta2\n",
    "$$\n",
    "\n",
    "**Ejercicio**: ¿Cómo podemos generalizar estas operaciones a arquitecturas de múltiples capas ocultas?"
   ]
  },
  {
   "cell_type": "code",
   "execution_count": 294,
   "metadata": {},
   "outputs": [
    {
     "name": "stdout",
     "output_type": "stream",
     "text": [
      "[[ 0.02179568  0.0049663   0.0100596   0.01283859  0.01597682]\n",
      " [ 0.02148772  0.00453821  0.00922184  0.01247637  0.01580225]\n",
      " [-0.00367231 -0.00032092 -0.00037642 -0.00118347 -0.00205801]]\n"
     ]
    }
   ],
   "source": [
    "Delta2 = np.dot(Delta3, P2.T) * sigmoidePrima(S2)\n",
    "print(Delta2)"
   ]
  },
  {
   "cell_type": "code",
   "execution_count": 295,
   "metadata": {},
   "outputs": [
    {
     "name": "stdout",
     "output_type": "stream",
     "text": [
      "[[ -1.85599842e-03   9.29426616e-05   4.61877958e-04  -1.13586728e-04\n",
      "   -7.26609154e-04]\n",
      " [  4.35768344e-03   1.50877496e-03   3.32974763e-03   3.54653728e-03\n",
      "    3.82818620e-03]\n",
      " [  4.38558922e-03   1.38091261e-03   3.08176798e-03   3.49517104e-03\n",
      "    3.86783359e-03]\n",
      " [  1.11005014e-02   2.79910313e-03   5.96359330e-03   7.39403784e-03\n",
      "    8.80603731e-03]]\n"
     ]
    }
   ],
   "source": [
    "dfcosto_dP1 = np.dot(X.T, Delta2)\n",
    "print(dfcosto_dP1)"
   ]
  },
  {
   "cell_type": "markdown",
   "metadata": {},
   "source": [
    "### Propagación hacia atrás\n",
    "\n",
    "Las derivadas que recién calculamos nos permiten conocer cuál dirección es \"cuesta arriba\".\n",
    "\n",
    "Notemos que $\\frac{\\partial f_{costo}}{\\partial P2}$ tiene dimensiones $5 \\times 1$ igual que $P2$; de la misma forma $\\frac{\\partial f_{costo}}{\\partial P1}$ tiene dimensiones $4 \\times 5$ igual que $P1$. \n",
    "\n",
    "Si tomamos en cuenta también que las derivadas representan la pendiente de una tangente, si las multiplicamos por un escalar podemos definir un vector lineal que represente movimiento (hacia arriba o hacia abajo) en la curva cóncava de la función de costo. Llamaremos a este escalar $\\alpha$ y lo interpretaremos como el factor de velocidad de aprendizaje. Este es un hiperparámetro más de la RNA, un $\\alpha$ muy pequeño producirá desplazamientos pequeños hacia el mínimo global, mientras que un $\\alpha$ muy grande podría provocar que nos \"brinquemos\" el mínimo global.\n",
    "\n",
    "Podemos entonces ajustar los pesos sumando o restando los vectores de movimiento a las matrices de pesos.\n",
    "\n",
    "$$\n",
    "P1 \\leftarrow P1 \\pm \\alpha \\frac{\\partial f_{costo}}{\\partial P1}\n",
    "$$\n",
    "\n",
    "$$\n",
    "P2 \\leftarrow P2 \\pm \\alpha \\frac{\\partial f_{costo}}{\\partial P2}\n",
    "$$\n",
    "\n"
   ]
  },
  {
   "cell_type": "markdown",
   "metadata": {},
   "source": [
    "Ajustemos los pesos de la RNA y verifiquemos cómo varía la función de costo."
   ]
  },
  {
   "cell_type": "markdown",
   "metadata": {},
   "source": [
    "Si modificamos los pesos sumando el valor de las derivadas, el costo debería aumentar, pues nos movemos cuesta arriba, alejándonos del mínimo global."
   ]
  },
  {
   "cell_type": "code",
   "execution_count": 296,
   "metadata": {},
   "outputs": [
    {
     "name": "stdout",
     "output_type": "stream",
     "text": [
      "costo original:  0.568040882787\n",
      "nuevo costo: 0.825250822036\n"
     ]
    }
   ],
   "source": [
    "# modificamos los pesos para alejarnos del mínimo global\n",
    "alpha = 3\n",
    "nuevo_P1 = P1 + alpha * dfcosto_dP1\n",
    "nuevo_P2 = P2 + alpha * dfcosto_dP2\n",
    "\n",
    "# propagación hacia adelante\n",
    "nuevo_yhat = sigmoide(np.dot(sigmoide(np.dot(X, nuevo_P1)), nuevo_P2))\n",
    "nuevo_costo = fcosto(y, nuevo_yhat)\n",
    "\n",
    "print('costo original: ', costo)\n",
    "print('nuevo costo:', nuevo_costo)"
   ]
  },
  {
   "cell_type": "markdown",
   "metadata": {},
   "source": [
    "Por otro lado, si modificamos los pesos **restando** el valor de las derivadas, el costo se reduce reflejando un acercamiento hacia el mínimo global."
   ]
  },
  {
   "cell_type": "code",
   "execution_count": 297,
   "metadata": {},
   "outputs": [
    {
     "name": "stdout",
     "output_type": "stream",
     "text": [
      "costo original:  0.568040882787\n",
      "nuevo costo: 0.37379148423\n"
     ]
    }
   ],
   "source": [
    "# modificamos los pesos para acercarnos al mínimo global\n",
    "alpha = 3\n",
    "nuevo_P1 = P1 - alpha * dfcosto_dP1\n",
    "nuevo_P2 = P2 - alpha * dfcosto_dP2\n",
    "\n",
    "# propagación hacia adelante\n",
    "nuevo_yhat = sigmoide(np.dot(sigmoide(np.dot(X, nuevo_P1)), nuevo_P2))\n",
    "nuevo_costo = fcosto(y, nuevo_yhat)\n",
    "\n",
    "print('costo original: ', costo)\n",
    "print('nuevo costo:', nuevo_costo)"
   ]
  },
  {
   "cell_type": "markdown",
   "metadata": {},
   "source": [
    "Nuestras predicciones $\\hat{y}$ deberían mejorar con respecto a nuestro primer intento, más bien aleatorio, que desarrollamos en la sección de propagación hacia adelante."
   ]
  },
  {
   "cell_type": "code",
   "execution_count": 298,
   "metadata": {},
   "outputs": [
    {
     "name": "stdout",
     "output_type": "stream",
     "text": [
      "[[0]\n",
      " [0]\n",
      " [1]]\n"
     ]
    }
   ],
   "source": [
    "print(y)"
   ]
  },
  {
   "cell_type": "code",
   "execution_count": 299,
   "metadata": {},
   "outputs": [
    {
     "name": "stdout",
     "output_type": "stream",
     "text": [
      "[[ 0.73753409]\n",
      " [ 0.74738865]\n",
      " [ 0.81687317]]\n"
     ]
    }
   ],
   "source": [
    "# intento aleatorio\n",
    "print(yhat)"
   ]
  },
  {
   "cell_type": "code",
   "execution_count": 300,
   "metadata": {},
   "outputs": [
    {
     "name": "stdout",
     "output_type": "stream",
     "text": [
      "[[ 0.46448992]\n",
      " [ 0.45383592]\n",
      " [ 0.4291541 ]]\n"
     ]
    }
   ],
   "source": [
    "# intento después de un paso de descenso por gradiente\n",
    "print(nuevo_yhat)"
   ]
  },
  {
   "cell_type": "markdown",
   "metadata": {},
   "source": [
    "Podemos notar que los dos primeros elementos de la nueva estimación se acercan más al valor esperado $0$. Sin embargo, el tercer elemento más bien se alejó de su valor esperado $1$.\n",
    "\n",
    "Debemos tener presente que tan sólo realizamos un paso de descenso en gradiente. Si continuamos calculando pasos de descenso deberíamos ir obteniendo cada vez mejores estimaciones.\n",
    "\n",
    "Por esta razón, el entrenamiento de una RNA consiste en realizar repetidamente pasos de (1) estimación (con propagación hacia adelante) y (2) de ajuste (con propagación hacia atrás); ya sea a través de un número determinado de iteraciones, o hasta que haya una convergencia -repitiendo hasta que la función de costo deje de disminuir-.\n"
   ]
  },
  {
   "cell_type": "markdown",
   "metadata": {},
   "source": [
    "## Conclusiones\n",
    "\n",
    "Modelamos entonces el concepto de RNA a través de elementos de álgebra lineal: matrices y vectores.\n",
    "\n",
    "Definimos la función de activación como la función $\\mathrm{sigmoide}$.\n",
    "\n",
    "$$\n",
    "f_{act}(s) = \\mathrm{sigmoide}(s) = \\frac{1}{1+\\mathrm{e}^{-s}}\n",
    "$$\n",
    "\n",
    "Aunque también es común utilizar $\\mathrm{tanh}$ y $\\mathrm{step}$.\n",
    "\n",
    "Definimos el proceso de *propagación hacia adelante*, que permite calcular estimaciones $\\hat{y}$ para las salidas esperadas $y$ con base en las entradas $X$, con las siguientes ecuaciones:\n",
    "\n",
    "Sumación de actividad en capa oculta:\n",
    "$$\n",
    "S2 = X \\cdot P1\n",
    "$$\n",
    "\n",
    "Activación en capa oculta:\n",
    "$$\n",
    "A2 = f_{act}(S2)\n",
    "$$\n",
    "\n",
    "Sumación de actividad en capa de salida:\n",
    "$$\n",
    "S3 = A2 \\cdot P2\n",
    "$$\n",
    "\n",
    "Activación y estimación final en capa de salida:\n",
    "$$\n",
    "\\hat{y} = f_{act}(S3) = f_{act}(f_{act}(X \\cdot P1) \\cdot P2)\n",
    "$$\n",
    "\n",
    "Para el proceso de *propagación hacia atrás*, que permite ajustar las matrices de pesos $P1$ y $P2$ para mejorar las estimaciones, definimos la función de costo como una medida del error en las estimaciones $\\hat{y}$.\n",
    "\n",
    "$$\n",
    "f_{costo} = \\sum_{i=1}^{obs} \\frac{1}{2} (y_i - \\hat{y}_i)^2\n",
    "$$\n",
    "\n",
    "Esta función será minimizada a través de un proceso de descenso por gradiente. Este proceso requiere desarrollar derivadas parciales de la función de costo en términos de cada una de las matrices de pesos en la RNA.\n",
    "\n",
    "Derivada de la función de activación:\n",
    "$$\n",
    "f^\\prime_{act}(s) = \\frac{\\mathrm{e}^{-s}}{(1+\\mathrm{e}^{-s})^2}\n",
    "$$\n",
    "\n",
    "Propagación del error desde la capa de salida a la capa oculta:\n",
    "$$\n",
    "\\Delta3 = -(y - \\hat{y}) \\cdot f^\\prime_{act}(S3)\n",
    "$$\n",
    "\n",
    "Derivada para pesos entre capa oculta y capa de salida:\n",
    "$$\n",
    "\\frac{\\partial f_{costo}}{\\partial P2} = A2^T \\cdot \\Delta3\n",
    "$$\n",
    "\n",
    "Propagación del error desde la capa oculta a la capa de entradas:\n",
    "$$\n",
    "\\Delta2 = \\Delta3 \\cdot P2^T \\cdot f^\\prime_{act}(S2)\n",
    "$$\n",
    "\n",
    "Derivada para pesos entre capa de entrada y capa oculta:\n",
    "$$\n",
    "\\frac{\\partial f_{costo}}{\\partial P1} = X^T \\cdot \\Delta2\n",
    "$$\n",
    "\n",
    "Finalmente, las derivadas de la función de costo se utilizan para ir ajustando los pesos en un proceso iterativo de descenso hasta un mínimo global. \n",
    "\n",
    "Ajuste de pesos $P1$:\n",
    "$$\n",
    "P1 \\leftarrow P1 \\pm \\alpha \\frac{\\partial f_{costo}}{\\partial P1}\n",
    "$$\n",
    "\n",
    "Ajuste de pesos $P2$:\n",
    "$$\n",
    "P2 \\leftarrow P2 \\pm \\alpha \\frac{\\partial f_{costo}}{\\partial P2}\n",
    "$$"
   ]
  },
  {
   "cell_type": "markdown",
   "metadata": {},
   "source": [
    "**Ejercicio**: Implemente una clase en Python que modele una RNA, debe implementar una interfaz pública que contenga los métodos `entrenar()` y `predecir(nuevo_X)`. El método `predecir(nuevo_X)` recibe una matriz de valores de entrada y produce una matriz de estimaciones de salida $\\hat{y}$. Su clase además debe implementar métodos privados `_prop_adelante(X)` y `_prop_atras(X, y)`. Finalmente, su clase debe permitir cualquier arquitectura de RNA, es decir el número de capas ocultas y cuántas neuronas por capa oculta debe ser parametrizable. El número de entradas y salidas se definen a partir de las dimensiones de `X` y `y`; tanto la matriz de entradas `X` como la de salidas esperadas `y` son parámetros del constructor. Finalmente, el constructor también debe tomar en cuenta otros hiperparámetros como la velocidad de aprendizaje `alfa` y el número máximo de iteraciones para el entrenamiento `iter`."
   ]
  },
  {
   "cell_type": "markdown",
   "metadata": {},
   "source": [
    "## Bibliografía\n",
    "\n",
    "Harrington, P. (2012). Machine Learning in Action. Manning: NY\n",
    "\n",
    "Li, S. (2017). Solving A Simple Classification Problem with Python — Fruits Lovers’ Edition. Disponible en: https://towardsdatascience.com/solving-a-simple-classification-problem-with-python-fruits-lovers-edition-d20ab6b071d2\n",
    "\n",
    "Méndez, H. (2013). Cálculo diferencial. EUNED: San José.\n",
    "\n",
    "Rojas, R. (1996). Neural Networks: A Systematic Introduction. Springer-Verlag: Berlin \n",
    "\n",
    "Welch Labs (N.D.). Neural Networks Demystified. Disponible en: https://www.youtube.com/playlist?list=PLiaHhY2iBX9hdHaRr6b7XevZtgZRa1PoU\n",
    "\n"
   ]
  }
 ],
 "metadata": {
  "kernelspec": {
   "display_name": "Python 3",
   "language": "python",
   "name": "python3"
  },
  "language_info": {
   "codemirror_mode": {
    "name": "ipython",
    "version": 3
   },
   "file_extension": ".py",
   "mimetype": "text/x-python",
   "name": "python",
   "nbconvert_exporter": "python",
   "pygments_lexer": "ipython3",
   "version": "3.5.3"
  }
 },
 "nbformat": 4,
 "nbformat_minor": 2
}
