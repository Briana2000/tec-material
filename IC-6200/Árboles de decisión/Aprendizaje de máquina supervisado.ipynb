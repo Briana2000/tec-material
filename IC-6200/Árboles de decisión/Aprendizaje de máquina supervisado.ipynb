{
 "cells": [
  {
   "cell_type": "markdown",
   "metadata": {},
   "source": [
    "# Aprendizaje de máquina supervisado"
   ]
  },
  {
   "cell_type": "markdown",
   "metadata": {},
   "source": [
    "## Objetivo\n",
    "\n",
    "Demostrar un procedimiento típico de entrenamiento de un algoritmo de aprendizaje de máquina supervisado.\n",
    "\n",
    "## Descripción\n",
    "\n",
    "Construiremos un modelo predictivo de clasificación de automóviles; los automóviles se clasificarán como muy buenos, buenos, aceptables o inaceptables con base en las siguientes características:\n",
    "\n",
    "* Precio de venta\n",
    "* Costo de mantenimiento\n",
    "* Número de puertas\n",
    "* Capacidad de pasajeros\n",
    "* Tamaño de la cajuela\n",
    "* Seguridad\n",
    "\n",
    "A grandes rasgos el proceso consiste de presentarle una serie de ejemplos a un algoritmo de aprendizaje; cada ejemplo representa un automóvil (modelado a partir de las características anteriormente mencionadas) y una clasificación (posiblemente establecida por un experto en el tema). El algoritmo aprenderá a reconocer el patrón de valores de las características definitorias de cada clasificación y después aplicará el patrón aprendido a nuevos ejemplos que le presentemos.\n",
    "\n",
    "El proceso de entrenamiento del algoritmo implica conocer los datos con los que estemos trabajando, determinar cuáles datos utilizaremos para entrenar y cuáles para hacer control de calidad, ejecutar el entrenamiento, y finalmente analizar la calidad del aprendizaje.\n",
    "\n",
    "## Árboles de decisión\n",
    "\n",
    "Trabajaremos con un algoritmo de aprendizaje de máquina supervisado llamado **árboles de decisión**.\n",
    "\n",
    "Este algoritmo recursivamente realiza particiones en los datos con base en alguna de las características del conjunto de datos.\n",
    "\n",
    "Tiene la particularidad de ser autoexplicativo, es decir para cualquier clasificación que determine podemos visualizar cuál fue el proceso de decisión que le llevó a dicha conclusión.\n",
    "\n",
    "En este ejercicio no entraremos en detalle de cómo funciona o cómo se implementa este algoritmo, pues estaremos más concentrados en demostrar el proceso de uso.\n",
    "\n",
    "## Metodología\n",
    "\n",
    "A continuación se demuestra paso a paso el proceso de entrenamiento y aplicación del modelo predictivo. Desarrollaremos el proceso utilizando el lenguaje de programación `R`.\n"
   ]
  },
  {
   "cell_type": "markdown",
   "metadata": {},
   "source": [
    "# Demostración"
   ]
  },
  {
   "cell_type": "markdown",
   "metadata": {},
   "source": [
    "Importamos la biblioteca `rpart` que implementa el algoritmo de árboles de decisión."
   ]
  },
  {
   "cell_type": "code",
   "execution_count": 40,
   "metadata": {},
   "outputs": [],
   "source": [
    "library(rpart)\n",
    "\n",
    "set.seed(42)\n"
   ]
  },
  {
   "cell_type": "markdown",
   "metadata": {},
   "source": [
    "También importamos el conjunto de datos `car.data`, que utilizaremos para entrenar nuestro modelo predictivo.\n",
    "\n",
    "Estos datos los traemos desde el repositorio público de UCI Machine Learning Repository (https://archive.ics.uci.edu/ml/datasets.html)"
   ]
  },
  {
   "cell_type": "code",
   "execution_count": 16,
   "metadata": {},
   "outputs": [],
   "source": [
    "df <- read.csv(url(\":\"), header=F)"
   ]
  },
  {
   "cell_type": "markdown",
   "metadata": {},
   "source": [
    "Definimos nombres para las variables"
   ]
  },
  {
   "cell_type": "code",
   "execution_count": 81,
   "metadata": {},
   "outputs": [],
   "source": [
    "colnames(df) <- c('buying_price', 'maintenance_cost', 'doors', 'persons', 'boot', 'security', 'classification')"
   ]
  },
  {
   "cell_type": "markdown",
   "metadata": {},
   "source": [
    "Podemos ver una muestra de los datos"
   ]
  },
  {
   "cell_type": "code",
   "execution_count": 29,
   "metadata": {},
   "outputs": [
    {
     "data": {
      "text/html": [
       "<table>\n",
       "<thead><tr><th scope=col>buying_price</th><th scope=col>maintenance_cost</th><th scope=col>doors</th><th scope=col>persons</th><th scope=col>boot</th><th scope=col>security</th><th scope=col>classification</th></tr></thead>\n",
       "<tbody>\n",
       "\t<tr><td>vhigh</td><td>vhigh</td><td>2    </td><td>2    </td><td>small</td><td>low  </td><td>unacc</td></tr>\n",
       "\t<tr><td>vhigh</td><td>vhigh</td><td>2    </td><td>2    </td><td>small</td><td>med  </td><td>unacc</td></tr>\n",
       "\t<tr><td>vhigh</td><td>vhigh</td><td>2    </td><td>2    </td><td>small</td><td>high </td><td>unacc</td></tr>\n",
       "\t<tr><td>vhigh</td><td>vhigh</td><td>2    </td><td>2    </td><td>med  </td><td>low  </td><td>unacc</td></tr>\n",
       "\t<tr><td>vhigh</td><td>vhigh</td><td>2    </td><td>2    </td><td>med  </td><td>med  </td><td>unacc</td></tr>\n",
       "\t<tr><td>vhigh</td><td>vhigh</td><td>2    </td><td>2    </td><td>med  </td><td>high </td><td>unacc</td></tr>\n",
       "</tbody>\n",
       "</table>\n"
      ],
      "text/latex": [
       "\\begin{tabular}{r|lllllll}\n",
       " buying\\_price & maintenance\\_cost & doors & persons & boot & security & classification\\\\\n",
       "\\hline\n",
       "\t vhigh & vhigh & 2     & 2     & small & low   & unacc\\\\\n",
       "\t vhigh & vhigh & 2     & 2     & small & med   & unacc\\\\\n",
       "\t vhigh & vhigh & 2     & 2     & small & high  & unacc\\\\\n",
       "\t vhigh & vhigh & 2     & 2     & med   & low   & unacc\\\\\n",
       "\t vhigh & vhigh & 2     & 2     & med   & med   & unacc\\\\\n",
       "\t vhigh & vhigh & 2     & 2     & med   & high  & unacc\\\\\n",
       "\\end{tabular}\n"
      ],
      "text/markdown": [
       "\n",
       "buying_price | maintenance_cost | doors | persons | boot | security | classification | \n",
       "|---|---|---|---|---|---|\n",
       "| vhigh | vhigh | 2     | 2     | small | low   | unacc | \n",
       "| vhigh | vhigh | 2     | 2     | small | med   | unacc | \n",
       "| vhigh | vhigh | 2     | 2     | small | high  | unacc | \n",
       "| vhigh | vhigh | 2     | 2     | med   | low   | unacc | \n",
       "| vhigh | vhigh | 2     | 2     | med   | med   | unacc | \n",
       "| vhigh | vhigh | 2     | 2     | med   | high  | unacc | \n",
       "\n",
       "\n"
      ],
      "text/plain": [
       "  buying_price maintenance_cost doors persons boot  security classification\n",
       "1 vhigh        vhigh            2     2       small low      unacc         \n",
       "2 vhigh        vhigh            2     2       small med      unacc         \n",
       "3 vhigh        vhigh            2     2       small high     unacc         \n",
       "4 vhigh        vhigh            2     2       med   low      unacc         \n",
       "5 vhigh        vhigh            2     2       med   med      unacc         \n",
       "6 vhigh        vhigh            2     2       med   high     unacc         "
      ]
     },
     "metadata": {},
     "output_type": "display_data"
    }
   ],
   "source": [
    "head(df)"
   ]
  },
  {
   "cell_type": "code",
   "execution_count": 35,
   "metadata": {
    "scrolled": true
   },
   "outputs": [
    {
     "data": {
      "text/html": [
       "1728"
      ],
      "text/latex": [
       "1728"
      ],
      "text/markdown": [
       "1728"
      ],
      "text/plain": [
       "[1] 1728"
      ]
     },
     "metadata": {},
     "output_type": "display_data"
    }
   ],
   "source": [
    "nrow(df)"
   ]
  },
  {
   "cell_type": "code",
   "execution_count": 36,
   "metadata": {},
   "outputs": [
    {
     "data": {
      "text/plain": [
       " buying_price maintenance_cost   doors     persons       boot     security  \n",
       " high :432    high :432        2    :432   2   :576   big  :576   high:576  \n",
       " low  :432    low  :432        3    :432   4   :576   med  :576   low :576  \n",
       " med  :432    med  :432        4    :432   more:576   small:576   med :576  \n",
       " vhigh:432    vhigh:432        5more:432                                    \n",
       " classification\n",
       " acc  : 384    \n",
       " good :  69    \n",
       " unacc:1210    \n",
       " vgood:  65    "
      ]
     },
     "metadata": {},
     "output_type": "display_data"
    }
   ],
   "source": [
    "summary(df)"
   ]
  },
  {
   "cell_type": "markdown",
   "metadata": {},
   "source": [
    "Generar conjuntos de entrenamiento y pruebas"
   ]
  },
  {
   "cell_type": "code",
   "execution_count": 42,
   "metadata": {},
   "outputs": [
    {
     "data": {
      "text/html": [
       "348"
      ],
      "text/latex": [
       "348"
      ],
      "text/markdown": [
       "348"
      ],
      "text/plain": [
       "[1] 348"
      ]
     },
     "metadata": {},
     "output_type": "display_data"
    },
    {
     "data": {
      "text/html": [
       "1383"
      ],
      "text/latex": [
       "1383"
      ],
      "text/markdown": [
       "1383"
      ],
      "text/plain": [
       "[1] 1383"
      ]
     },
     "metadata": {},
     "output_type": "display_data"
    }
   ],
   "source": [
    "df$rgroup <- floor(nrow(df) * runif(nrow(df)))\n",
    "cut <- round(nrow(df) * 0.20)\n",
    "\n",
    "testing <- df[df$rgroup %in% sort(df$rgroup)[1:cut],]\n",
    "training <- df[df$rgroup %in% sort(df$rgroup)[(cut + 1):nrow(df)],]\n",
    "\n",
    "nrow(testing)\n",
    "nrow(training)"
   ]
  },
  {
   "cell_type": "code",
   "execution_count": 44,
   "metadata": {},
   "outputs": [
    {
     "data": {
      "text/plain": [
       " buying_price maintenance_cost   doors    persons       boot     security  \n",
       " high :78     high : 92        2    :80   2   :111   big  :121   high:118  \n",
       " low  :85     low  : 81        3    :83   4   :119   med  :111   low :101  \n",
       " med  :92     med  : 72        4    :92   more:118   small:116   med :129  \n",
       " vhigh:93     vhigh:103        5more:93                                    \n",
       "                                                                           \n",
       "                                                                           \n",
       " classification     rgroup     \n",
       " acc  : 84      Min.   :  0.0  \n",
       " good : 10      1st Qu.: 86.0  \n",
       " unacc:242      Median :179.0  \n",
       " vgood: 12      Mean   :173.4  \n",
       "                3rd Qu.:258.5  \n",
       "                Max.   :338.0  "
      ]
     },
     "metadata": {},
     "output_type": "display_data"
    }
   ],
   "source": [
    "summary(testing)"
   ]
  },
  {
   "cell_type": "code",
   "execution_count": 46,
   "metadata": {},
   "outputs": [
    {
     "data": {
      "text/plain": [
       " buying_price maintenance_cost   doors     persons       boot     security  \n",
       " high :356    high :341        2    :352   2   :466   big  :456   high:459  \n",
       " low  :347    low  :352        3    :350   4   :457   med  :465   low :476  \n",
       " med  :340    med  :360        4    :341   more:460   small:462   med :448  \n",
       " vhigh:340    vhigh:330        5more:340                                    \n",
       "                                                                            \n",
       "                                                                            \n",
       " classification     rgroup    \n",
       " acc  :302      Min.   : 338  \n",
       " good : 59      1st Qu.: 723  \n",
       " unacc:969      Median :1081  \n",
       " vgood: 53      Mean   :1060  \n",
       "                3rd Qu.:1412  \n",
       "                Max.   :1727  "
      ]
     },
     "metadata": {},
     "output_type": "display_data"
    }
   ],
   "source": [
    "summary(training)"
   ]
  },
  {
   "cell_type": "markdown",
   "metadata": {},
   "source": [
    "Entrenar el modelo"
   ]
  },
  {
   "cell_type": "code",
   "execution_count": 77,
   "metadata": {},
   "outputs": [
    {
     "data": {
      "image/png": "[encoded data removed]",
      "text/plain": [
       "plot without title"
      ]
     },
     "metadata": {},
     "output_type": "display_data"
    }
   ],
   "source": [
    "library(rpart.plot)\n",
    "\n",
    "formula <- classification ~ buying_price + maintenance_cost + doors + persons + boot + security\n",
    "tree <- rpart(formula, data = training)\n",
    "\n",
    "#par(cex=0.6)\n",
    "rpart.plot(tree, type=4, tweak=1.5, extra=0)\n",
    "#text(tree)"
   ]
  },
  {
   "cell_type": "code",
   "execution_count": 78,
   "metadata": {},
   "outputs": [
    {
     "data": {
      "text/plain": [
       "\n",
       "  acc  good unacc vgood \n",
       "    0     0   476     0 "
      ]
     },
     "metadata": {},
     "output_type": "display_data"
    }
   ],
   "source": [
    "table(training[training$security == 'low',]$classification)"
   ]
  },
  {
   "cell_type": "markdown",
   "metadata": {},
   "source": [
    "Evaluar el modelo"
   ]
  },
  {
   "cell_type": "code",
   "execution_count": 79,
   "metadata": {},
   "outputs": [
    {
     "name": "stdout",
     "output_type": "stream",
     "text": [
      "       expected\n",
      "actual  acc good unacc vgood\n",
      "  acc    80    1     3     0\n",
      "  good    0    9     0     1\n",
      "  unacc  11    0   231     0\n",
      "  vgood   3    0     0     9\n"
     ]
    }
   ],
   "source": [
    "testing$preds <- predict(tree, newdata = testing, type = 'class')\n",
    "cM <- table(actual = testing$classification, expected = testing$preds)\n",
    "\n",
    "print(cM)"
   ]
  },
  {
   "cell_type": "markdown",
   "metadata": {},
   "source": [
    "Exactitud"
   ]
  },
  {
   "cell_type": "code",
   "execution_count": 68,
   "metadata": {},
   "outputs": [
    {
     "data": {
      "text/html": [
       "0.945402298850575"
      ],
      "text/latex": [
       "0.945402298850575"
      ],
      "text/markdown": [
       "0.945402298850575"
      ],
      "text/plain": [
       "[1] 0.9454023"
      ]
     },
     "metadata": {},
     "output_type": "display_data"
    }
   ],
   "source": [
    "sum(diag(cM)) / sum(cM)"
   ]
  }
 ],
 "metadata": {
  "kernelspec": {
   "display_name": "R",
   "language": "R",
   "name": "ir"
  },
  "language_info": {
   "codemirror_mode": "r",
   "file_extension": ".r",
   "mimetype": "text/x-r-source",
   "name": "R",
   "pygments_lexer": "r",
   "version": "3.3.3"
  }
 },
 "nbformat": 4,
 "nbformat_minor": 2
}
